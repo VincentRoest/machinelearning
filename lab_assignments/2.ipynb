{
 "cells": [
  {
   "cell_type": "markdown",
   "metadata": {
    "raw_mimetype": "text/markdown"
   },
   "source": [
    "# Lab Assignment 2\n",
    "\n",
    "In the third assignment you will classify hand-written digits using logistic regression.\n",
    "\n",
    "The assignment follows Andrew Ng's explanation of Logistic Regression and (re)watching his videos could be useful (Week 3)\n",
    "\n",
    "Publish your notebook (ipynb file) to your Machine Learning () repository on Github.\n",
    "\n",
    "### Deadline October 26th, 23:59\n",
    "\n",
    "Do not hand in any other files, the Notebook should contain all your answers."
   ]
  },
  {
   "cell_type": "markdown",
   "metadata": {},
   "source": [
    "# Collaboration\n",
    "\n",
    "In my quest to solutions I worked together with Bas Straathof. Any similarities between our codes may therefore not be entirely coincidental, but they were certainly unintended."
   ]
  },
  {
   "cell_type": "code",
   "execution_count": 6,
   "metadata": {
    "collapsed": false
   },
   "outputs": [
    {
     "name": "stdout",
     "output_type": "stream",
     "text": [
      "Populating the interactive namespace from numpy and matplotlib\n"
     ]
    }
   ],
   "source": [
    "%pylab inline"
   ]
  },
  {
   "cell_type": "markdown",
   "metadata": {},
   "source": [
    "Scikit-learn has the dataset built in. The dataset contains images of hand-written digits that are only 8 by 8 pixels, which means the algorithm (logistic regression) should run on every computer.\n",
    "\n",
    "The code in the following cell shows how to work with the digits dataset and  how to visualize it. As you can see the numbers are not very clear in 8x8 pixels images, this means we cannot expect our logistic regression will have a very high classification score."
   ]
  },
  {
   "cell_type": "code",
   "execution_count": 7,
   "metadata": {
    "collapsed": false
   },
   "outputs": [
    {
     "name": "stdout",
     "output_type": "stream",
     "text": [
      "The numbers shown are: \n",
      "[[0 1 2 3 4]\n",
      " [5 6 7 8 9]]\n"
     ]
    },
    {
     "data": {
      "image/png": "[encoded data removed]",
      "text/plain": [
       "<matplotlib.figure.Figure at 0x10c5c7c50>"
      ]
     },
     "metadata": {},
     "output_type": "display_data"
    }
   ],
   "source": [
    "from sklearn.datasets import load_digits\n",
    "from __future__ import division\n",
    "\n",
    "digits = load_digits(n_class=10)\n",
    "\n",
    "#Create two rows with numbers\n",
    "firstrow = np.hstack(digits.images[:5,:,:])\n",
    "secondrow = np.hstack(digits.images[5:10,:,:])\n",
    "\n",
    "plt.gray()\n",
    "plt.axis('off')\n",
    "\n",
    "#Show both rows at the same time\n",
    "plt.imshow(np.vstack((firstrow,secondrow)))\n",
    "\n",
    "print \"The numbers shown are: \\n\", np.vstack((digits.target[:5],\n",
    "                                              digits.target[5:10]))"
   ]
  },
  {
   "cell_type": "markdown",
   "metadata": {},
   "source": [
    "## The implementation\n",
    "\n",
    "You have to implement the next three functions and fill in the body of the loop in order to create a correct implementation of logistic regression. Don't change the definitions of the functions and input parameters.\n",
    "\n",
    "Make sure that you do not overfit by keeping track of the score on the test set and implementing a correct stop condition. Also pick a learning rate alpha that makes sure the algorithm learns in a smooth and stable manner.\n",
    "\n",
    "Plot how your score on the test set improves over time. My best score was about 85% correct!\n"
   ]
  },
  {
   "cell_type": "markdown",
   "metadata": {},
   "source": [
    "## Prediction Function"
   ]
  },
  {
   "cell_type": "code",
   "execution_count": 8,
   "metadata": {
    "collapsed": false
   },
   "outputs": [],
   "source": [
    "''' \n",
    "The hypothesis function returns a prediction\n",
    "of the input data x for a given theta matrix by\n",
    "using the sigmoid function for classification. \n",
    "'''\n",
    "def prediction_function(x,theta):\n",
    "    return 1.0 /(1.0 + e**(-theta.T.dot(x)))"
   ]
  },
  {
   "cell_type": "markdown",
   "metadata": {},
   "source": [
    "## Cost Function"
   ]
  },
  {
   "cell_type": "code",
   "execution_count": 9,
   "metadata": {
    "collapsed": false
   },
   "outputs": [],
   "source": [
    "# We use the output of prediciton_function() for cost_function() the cost function:\n",
    "'''\n",
    "The cost_function() takes as inputs an x-value that\n",
    "was predicted by the function prediciton_function()\n",
    "and it takes as input the data that corresponds with \n",
    "the target digit y, for which it returns the cost J.\n",
    "'''\n",
    "def cost_function(x_predict,y):\n",
    "    return - 1.0 / len(y) * (sum( np.dot(y.T, log(x_predict)) \n",
    "                              + np.dot((1 - y.T), log(1 - x_predict))))"
   ]
  },
  {
   "cell_type": "markdown",
   "metadata": {},
   "source": [
    "## Compute Gradient Function"
   ]
  },
  {
   "cell_type": "code",
   "execution_count": 14,
   "metadata": {
    "collapsed": false
   },
   "outputs": [],
   "source": [
    "'''\n",
    "The compute_gradient() function takes as inputs the predicted\n",
    "x-value (x_predict), the digit data y and the initial data\n",
    "set x. The function name gives it away, but this function\n",
    "computes the gradient. We use the outer product since the\n",
    "outer product u ⊗ v is the same as a matrix multiplication u v.T,\n",
    "if u is of shape m x 1 and v of shape n x 1. vT is then a row \n",
    "vector, which whould be the case for this logistic regression. \n",
    "'''\n",
    "def compute_gradient(x_predict, y, x):\n",
    "    # 1/len(x) can be removed as it is basically the same\n",
    "    # as decreasing alpha, but it seems to work rather\n",
    "    # nicely as will turn out later. It could be left out.\n",
    "    return 1 / len(x) * np.outer(x_predict - y, x) "
   ]
  },
  {
   "cell_type": "markdown",
   "metadata": {},
   "source": [
    "## Training and Testing the Algorithm\n",
    "\n",
    "Note:\n",
    "In order for the cost_function() not to be left out alone, I used it for setting a stop condition to break out of the while loop. However, by observing the graph that shows the evolution of the efficiency (percentage) of the algorithm, we could choose a smart number of iterations, making the stop condition redundant.\n",
    "\n"
   ]
  },
  {
   "cell_type": "code",
   "execution_count": 36,
   "metadata": {
    "collapsed": false
   },
   "outputs": [
    {
     "name": "stdout",
     "output_type": "stream",
     "text": [
      "Terminating algorithm after 152 iterations because the desired halting condition has been reached.\n",
      "\n",
      "FINAL ACCURACY OF THE ALGORITHM: 89.23 % \n",
      "\n",
      "It follows that we were still unable to correctly classify 10.77 % of the data set. The errors were: \n",
      "\n",
      "Algorithm classified a 1 as a 3.\n",
      "Algorithm classified a 9 as a 0.\n",
      "Algorithm classified a 6 as a 1.\n",
      "Algorithm classified a 7 as a 8.\n",
      "Algorithm classified a 8 as a 1.\n",
      "Algorithm classified a 9 as a 7.\n",
      "Algorithm classified a 6 as a 1.\n",
      "Algorithm classified a 8 as a 1.\n",
      "Algorithm classified a 0 as a 4.\n",
      "Algorithm classified a 9 as a 8.\n",
      "Algorithm classified a 9 as a 1.\n",
      "Algorithm classified a 7 as a 4.\n",
      "Algorithm classified a 3 as a 1.\n",
      "Algorithm classified a 3 as a 7.\n",
      "Algorithm classified a 3 as a 7.\n",
      "Algorithm classified a 3 as a 8.\n",
      "Algorithm classified a 4 as a 8.\n",
      "Algorithm classified a 4 as a 8.\n",
      "Algorithm classified a 9 as a 3.\n",
      "Algorithm classified a 4 as a 8.\n",
      "Algorithm classified a 9 as a 5.\n",
      "Algorithm classified a 9 as a 8.\n",
      "Algorithm classified a 3 as a 8.\n",
      "Algorithm classified a 3 as a 5.\n",
      "Algorithm classified a 3 as a 7.\n",
      "Algorithm classified a 3 as a 8.\n",
      "Algorithm classified a 3 as a 8.\n",
      "Algorithm classified a 3 as a 5.\n",
      "Algorithm classified a 3 as a 8.\n",
      "Algorithm classified a 1 as a 8.\n",
      "Algorithm classified a 3 as a 5.\n",
      "Algorithm classified a 1 as a 8.\n",
      "\n",
      "Just a check: these errors indeed comprise 10.77 % of the testing data set.\n"
     ]
    },
    {
     "data": {
      "image/png": "[encoded data removed]",
      "text/plain": [
       "<matplotlib.figure.Figure at 0x11188f650>"
      ]
     },
     "metadata": {},
     "output_type": "display_data"
    }
   ],
   "source": [
    "numpy.set_printoptions(threshold='nan')\n",
    "\n",
    "# Constant linear regression factors\n",
    "alpha = 0.001 # learning rate\n",
    "iterations = 500 # maximum number of iterations\n",
    "stop_condition = 0.00005 # the stop condition\n",
    "\n",
    "# Init theta matrix with zeros.\n",
    "theta = np.zeros((64,10))\n",
    "\n",
    "# Here we split the data set in a learning set and a test set.\n",
    "x_learn = np.reshape(digits.images[:1500],(1500,64))\n",
    "x_test = np.reshape(digits.images[1500:],(297,64))\n",
    "\n",
    "# Naturally, we have to do the same for the target digits\n",
    "target_learn = digits.target[:1500] \n",
    "target_test = digits.target[1500:]\n",
    "\n",
    "# Cost function values are used for the termination of the \n",
    "# while loop and for plotting the values of the cost function to \n",
    "# check whether it is monotonically decreasing, as it should.\n",
    "cost_values = []\n",
    "\n",
    "# The accuracy of the algorithm will be stored in an array\n",
    "# So we initialize it as an empty array here.\n",
    "accuracy = np.array([])\n",
    "\n",
    "# We need the predicted values to identify errors. We \n",
    "# know the size of x_test, so we create an \n",
    "# empty matrix that has an equal number of rows as x_test\n",
    "predicted_values = np.zeros((297,1))\n",
    "\n",
    "# This is the main body. Training and testing occurs here.\n",
    "i = 0\n",
    "while i < iterations:  \n",
    "    # TRAINING, on the data set x_learn\n",
    "    for j in range(x_learn.shape[0]):\n",
    "        # Calculate the prediction value\n",
    "        x_predict = prediction_function(x_learn[j,:].T,theta)\n",
    "        # we are looking for digits 0-9, so there are 10 choices\n",
    "        # -> init an array of size 10\n",
    "        y = np.zeros(10) \n",
    "        # At the right target index in y we insert a 1\n",
    "        y[target_learn[j]] = 1     \n",
    "        # The update rule of theta:\n",
    "        theta = theta - alpha * compute_gradient(x_predict, y, x_learn[j,:].T).T\n",
    "    \n",
    "    # We store the values of the cost function per iteration\n",
    "    cost_values.append(cost_function(x_predict, y))\n",
    "    \n",
    "    # TESTING, on the data set x_test\n",
    "    counter = 0 #  Used for calculating the percentage of correct classifications\n",
    "    for j in range(x_test.shape[0]):\n",
    "        # the Numpy function argmax returns an index in an array that holds the highest \n",
    "        # value. If this index is the same as the target value for the digit we are \n",
    "        # considering, the digit is classified correctly by the algorithm\n",
    "        if np.argmax(prediction_function(x_test[j,:],theta)) == target_test[j]:\n",
    "            counter += 1 # Found a correct digit, increment counter by 1\n",
    "            # Simple percentage calculation, which is done for every iteration,\n",
    "            # and we use the percentage of the final iteration to append to \n",
    "            # the accuracy array.\n",
    "            percentage = (float(counter)/x_test.shape[0])*100\n",
    "            # We have correctly classified it: so set the right digit.\n",
    "            predicted_values[j] = target_test[j]\n",
    "        else:\n",
    "            # We have not classified it correctly: set the digit it thought it was. \n",
    "            predicted_values[j] = np.argmax(prediction_function(x_test[j,:],theta))\n",
    "\n",
    "    # Here we append the percentage correctly classified digits.\n",
    "    accuracy = np.append(accuracy, percentage) \n",
    "    \n",
    "    # Terminate the while loop if the difference between two consecutive cost \n",
    "    # function calculations is smaller than the stop condition. \n",
    "    if i > 1 and cost_values[i-1] - cost_values[i] < stop_condition: # \n",
    "        print \"Terminating algorithm after %s iterations because the \" \\\n",
    "              \"desired halting condition has been reached.\" % (i) \n",
    "        break    \n",
    "    # Let us not forget this: increment counter while loop.\n",
    "    i += 1\n",
    "\n",
    "print \"\\nFINAL ACCURACY OF THE ALGORITHM: %s %% \\n\" % (round(accuracy[-1],2))\n",
    "\n",
    "# Plot of the accuracy percentages\n",
    "plt.plot(accuracy, 'b')\n",
    "plt.title('Accuracy improvement', fontsize=14)\n",
    "plt.xlabel('# of iterations', fontsize=12)\n",
    "plt.ylabel('Accuracy (%) ', fontsize=12)\n",
    "\n",
    "# Checking where the code went wrong most of the times.\n",
    "print \"It follows that we were still unable to correctly classify %s %% of the data set. \" \\\n",
    "      \"The errors were: \\n\" % (100 - (round(accuracy[-1],2)))\n",
    "# good thing we saved the predicted values huh?\n",
    "m = 0\n",
    "for i in range(len(target_test)):\n",
    "    # not the same: show which it was supposed to be\n",
    "    if predicted_values[i] != target_test[i]:\n",
    "        m += 1\n",
    "        print \"Algorithm classified a %s as a %s.\" % (target_test[i], int(predicted_values[i][0]))\n",
    "\n",
    "error_perc = round((m / len(target_test) * 100),2)\n",
    "print \"\\nJust a check: these errors indeed comprise %s %% of the testing data set.\" \\\n",
    "% (error_perc)"
   ]
  },
  {
   "cell_type": "markdown",
   "metadata": {
    "collapsed": false
   },
   "source": [
    "## Analysis\n",
    "\n",
    "The functions appear to function correctly, and perhaps might even be fitting to say that they work amazingly. Of course, these digits were still computer generated, and perhaps it will have difficulty with real hand written digits. A final check we could perform to check whether the algorithm continuously learns, is by plotting the cost function to see whether it decreases all the time. This is the case as can be seen below:"
   ]
  },
  {
   "cell_type": "code",
   "execution_count": 35,
   "metadata": {
    "collapsed": false
   },
   "outputs": [
    {
     "data": {
      "text/plain": [
       "<matplotlib.text.Text at 0x1126b2b10>"
      ]
     },
     "execution_count": 35,
     "metadata": {},
     "output_type": "execute_result"
    },
    {
     "data": {
      "image/png": "[encoded data removed]",
      "text/plain": [
       "<matplotlib.figure.Figure at 0x111f5c250>"
      ]
     },
     "metadata": {},
     "output_type": "display_data"
    }
   ],
   "source": [
    "plt.plot(cost_values, 'r')\n",
    "plt.title('Cost function', fontsize=14)\n",
    "plt.xlabel('# of iterations', fontsize=12)\n",
    "plt.ylabel('Cost ', fontsize=12)"
   ]
  },
  {
   "cell_type": "code",
   "execution_count": null,
   "metadata": {
    "collapsed": true
   },
   "outputs": [],
   "source": []
  }
 ],
 "metadata": {
  "anaconda-cloud": {},
  "celltoolbar": "Raw Cell Format",
  "kernelspec": {
   "display_name": "Python [Root]",
   "language": "python",
   "name": "Python [Root]"
  },
  "language_info": {
   "codemirror_mode": {
    "name": "ipython",
    "version": 2
   },
   "file_extension": ".py",
   "mimetype": "text/x-python",
   "name": "python",
   "nbconvert_exporter": "python",
   "pygments_lexer": "ipython2",
   "version": "2.7.12"
  }
 },
 "nbformat": 4,
 "nbformat_minor": 0
}
